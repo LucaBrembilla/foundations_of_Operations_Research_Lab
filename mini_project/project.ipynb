{
  "cells": [
    {
      "cell_type": "markdown",
      "metadata": {
        "id": "4MGTWLXgf2lu"
      },
      "source": [
        "## Biogas plant\n",
        "\n",
        "You want to plan the two-year supply of raw materials for a biogas power plant. Such a plant produces energy by burning biogas, which is obtained from the bacterial fermentation of organic wastes. \n",
        "Specifically, your plant is powered by corn chopping, a residual of agro-industrial operations that you can purchase from 5 local farms. \n",
        "The table below shows the quarterly capacity of each farm for the next two years. Quantities are measured in tons.\n",
        "\n",
        "Farm|T1|T2|T3|T4|T5|T6|T7|T8\n",
        ":-|:-:|:-:|:-:|:-:|:-:|:-:|:-:|:-:\n",
        "1|700|1500|700|0|0|700|1500|0\n",
        "2|1350|0|450|0|1350|0|450|0\n",
        "3|0|1500|1500|0|0|1500|1500|0\n",
        "4|820|1560|820|0|820|1560|820|0\n",
        "5|0|680|1080|0|0|680|1080|0\n",
        "\n",
        "Due to crop rotations and corn harvesting periods, farms are unable to supply material in some quarters. Moreover the types of corn chopping provided are different, each coming with its own unitary purchase price, unitary storage cost and percentage of dry matter. The table below shows a summary of these information.\n",
        "\n",
        "Farm|Purchase price|Storage cost|Dry matter\n",
        ":-|:-:|:-:|:-:\n",
        "1|0.20|0.002|15\n",
        "2|0.18|0.012|28\n",
        "3|0.19|0.007|35\n",
        "4|0.21|0.011|37\n",
        "5|0.23|0.015|42\n",
        "\n",
        "Your biogas plant must operate by burning a mixture of corn choppings with a dry matter percentage between 20% and 40%. Under these conditions, the yield is 421.6 kWh of energy per ton of burned material. The energy produced by the plant is sold on the market at a price of 0.28 $/kWh. \n",
        "\n",
        "Due to state regulations, all biogas plants can produce a maximum of 1950 MWh of energy per quarter. You are allowed to store corn chopping in a silo, whose total capacity is of 500 tons. \n",
        "\n",
        "Plan the supply and inventory of your biogas plant with the goal of maximizing your profits (i.e., revenues minus costs)."
      ]
    },
    {
      "cell_type": "code",
      "execution_count": null,
      "metadata": {
        "id": "AXjbD65XQCeH"
      },
      "outputs": [],
      "source": [
        "# When using Colab, make sure you run this instruction beforehand\n",
        "!pip install --upgrade cffi==1.15.0\n",
        "import importlib\n",
        "import cffi\n",
        "importlib.reload(cffi)\n",
        "!pip install mip"
      ]
    },
    {
      "cell_type": "code",
      "execution_count": null,
      "metadata": {
        "id": "u5LgWZnpKb5L"
      },
      "outputs": [],
      "source": [
        "import numpy as np\n",
        "import mip\n",
        "m = mip.Model()\n",
        "\n",
        "#SETS\n",
        "T =   [i for i in range(8)]\n",
        "T0 =  [i for i in range(-1, 8)]\n",
        "F =   [i for i in range(5)]\n",
        "\n",
        "#PARAMETERS\n",
        "d = [ [   700,    1500,   700,    0,      0,    700,    1500,   0],\n",
        "      [   1350,   0,      450,    0,      1350, 0,      450,    0],\n",
        "      [   0,      1500,   1500,   0,      0,    1500,   1500,   0],\n",
        "      [   820,    1560,   820,    0,      820,  1560,   820,    0],\n",
        "      [   0,      680,    1080,   0,      0,    680,    1080,   0]]\n",
        "\n",
        "c =   [   0.2,    0.18,   0.19,   0.21,   0.23  ]\n",
        "s =   [   0.002,  0.012,  0.007,  0.011,  0.015 ]\n",
        "dm =  [   15,     28,     35,     37,     42    ]\n",
        "\n",
        "dmpd = 20\n",
        "dmpu = 40\n",
        "kWhpt = 421.6\n",
        "ppkWh = 0.28\n",
        "maxeprod = 1950000\n",
        "maxsc = 500\n",
        "\n",
        "#VARIABLES\n",
        "x = {(i,t) : m.add_var(var_type=mip.CONTINUOUS) for i in F for t in T}\n",
        "r = {(i,t) : m.add_var(var_type=mip.CONTINUOUS) for i in F for t in T0}\n",
        "\n",
        "\n",
        "#CONSTAINTS\n",
        "\n",
        "#for each quarter t and for each farm i the corn quantity bought is less than or equal than the quantity offered by the farm\n",
        "for i in F:\n",
        "  for t in T:\n",
        "    m.add_constr(x[i, t] <= d[i][t])\n",
        "\n",
        "#for each quarter t and for each farm i the corn quantity stored is less than or equal than the quantity bought plus the quantity stored previouly\n",
        "for i in F:\n",
        "  for t in T:\n",
        "    m.add_constr(r[i, t] <= x[i, t] + r[i, t-1])"
      ]
    }
  ],
  "metadata": {
    "colab": {
      "provenance": []
    },
    "kernelspec": {
      "display_name": "Python 3",
      "name": "python3"
    },
    "language_info": {
      "name": "python"
    }
  },
  "nbformat": 4,
  "nbformat_minor": 0
}